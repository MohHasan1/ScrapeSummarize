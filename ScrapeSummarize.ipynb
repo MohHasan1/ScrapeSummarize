{
  "nbformat": 4,
  "nbformat_minor": 0,
  "metadata": {
    "colab": {
      "provenance": [],
      "authorship_tag": "ABX9TyOJyaTap6RXhH5P77DX9wVT",
      "include_colab_link": true
    },
    "kernelspec": {
      "name": "python3",
      "display_name": "Python 3"
    },
    "language_info": {
      "name": "python"
    }
  },
  "cells": [
    {
      "cell_type": "markdown",
      "metadata": {
        "id": "view-in-github",
        "colab_type": "text"
      },
      "source": [
        "<a href=\"https://colab.research.google.com/github/MohHasan1/ScrapeSummarize/blob/main/ScrapeSummarize.ipynb\" target=\"_parent\"><img src=\"https://colab.research.google.com/assets/colab-badge.svg\" alt=\"Open In Colab\"/></a>"
      ]
    },
    {
      "cell_type": "code",
      "execution_count": 2,
      "metadata": {
        "id": "f9F5W3lmlIGx"
      },
      "outputs": [],
      "source": [
        "# imports\n",
        "\n",
        "import os\n",
        "import requests\n",
        "from bs4 import BeautifulSoup\n",
        "from IPython.display import Markdown, display\n",
        "from openai import OpenAI"
      ]
    },
    {
      "cell_type": "code",
      "source": [
        "OPENAPI_KEY = \"Your-open-api-key\""
      ],
      "metadata": {
        "id": "iloZZGSZlNxY"
      },
      "execution_count": 3,
      "outputs": []
    },
    {
      "cell_type": "code",
      "source": [
        "if not OPENAPI_KEY:\n",
        "    print(\"No API key found. Please add the OPENAPI_KEY above.\")\n",
        "elif not OPENAPI_KEY.startswith(\"sk-proj-\"):\n",
        "    print(\"Invalid API key format. Ensure it starts with 'sk-proj-'.\")\n",
        "elif OPENAPI_KEY.strip() != OPENAPI_KEY:\n",
        "    print(\"API key has leading/trailing spaces. Remove them.\")\n",
        "else:\n",
        "    print(\"API key is valid!\")\n"
      ],
      "metadata": {
        "colab": {
          "base_uri": "https://localhost:8080/"
        },
        "id": "hx21n2O0lwIU",
        "outputId": "5c2e7891-9726-4668-95b0-c21c560349ff"
      },
      "execution_count": 4,
      "outputs": [
        {
          "output_type": "stream",
          "name": "stdout",
          "text": [
            "API key is valid!\n"
          ]
        }
      ]
    },
    {
      "cell_type": "code",
      "source": [
        "# Connect to OpenAI\n",
        "\n",
        "openai = OpenAI(api_key=OPENAPI_KEY)"
      ],
      "metadata": {
        "id": "O3itTKv4lwF8"
      },
      "execution_count": 6,
      "outputs": []
    },
    {
      "cell_type": "code",
      "source": [
        "# Test the connection.\n",
        "\n",
        "message = \"Hello, GPT! How are you?\"\n",
        "response = openai.chat.completions.create(model=\"gpt-4o-mini\", messages=[{\"role\":\"user\", \"content\":message}])\n",
        "print(response.choices[0].message.content)"
      ],
      "metadata": {
        "colab": {
          "base_uri": "https://localhost:8080/"
        },
        "id": "Inmjhye8lwDM",
        "outputId": "d84ab7a3-0035-4bec-dabf-c522552b9484"
      },
      "execution_count": 7,
      "outputs": [
        {
          "output_type": "stream",
          "name": "stdout",
          "text": [
            "Hello! I'm just a computer program, so I don't have feelings, but I'm here and ready to help you. How can I assist you today?\n"
          ]
        }
      ]
    },
    {
      "cell_type": "markdown",
      "source": [
        "# **Types of prompts**\n",
        "\n",
        "Models like GPT4o have been trained to receive instructions in a particular way.\n",
        "\n",
        "They expect to receive:\n",
        "\n",
        "**A system prompt** that tells them what task they are performing and what tone they should use\n",
        "\n",
        "**A user prompt** -- the conversation starter that they should reply to"
      ],
      "metadata": {
        "id": "S-EiqSDXn83s"
      }
    },
    {
      "cell_type": "markdown",
      "source": [
        "# Messages\n",
        "\n",
        "The API from OpenAI expects to receive messages in a particular structure.\n",
        "Many of the other APIs share this structure:\n",
        "\n",
        "\n",
        "\n",
        "```\n",
        "[\n",
        "    {\"role\": \"system\", \"content\": \"system message goes here\"},\n",
        "    {\"role\": \"user\", \"content\": \"user message goes here\"}\n",
        "]\n",
        "```"
      ],
      "metadata": {
        "id": "0nfTCEk8oLpZ"
      }
    },
    {
      "cell_type": "markdown",
      "source": [
        "# **Buisness Problem**\n",
        "\n",
        "Summarize any webpage"
      ],
      "metadata": {
        "id": "8Vd0RSDpogPV"
      }
    },
    {
      "cell_type": "code",
      "source": [
        "# Some websites need you to use proper headers when fetching them:\n",
        "headers = {\n",
        " \"User-Agent\": \"Mozilla/5.0 (Windows NT 10.0; Win64; x64) AppleWebKit/537.36 (KHTML, like Gecko) Chrome/117.0.0.0 Safari/537.36\"\n",
        "}\n",
        "\n",
        "class Website:\n",
        "\n",
        "    def __init__(self, url):\n",
        "        \"\"\"\n",
        "        Create this Website object from the given url using the BeautifulSoup library\n",
        "        \"\"\"\n",
        "        self.url = url\n",
        "        self.title = None\n",
        "        self.text = None\n",
        "\n",
        "        # Get the website\n",
        "        response = requests.get(url, headers=headers)\n",
        "        # Parse the website\n",
        "        soup = BeautifulSoup(response.content, 'html.parser')\n",
        "        self.title = soup.title.string if soup.title else \"No title found\"\n",
        "        for irrelevant in soup.body([\"script\", \"style\", \"img\", \"input\"]):\n",
        "            irrelevant.decompose()\n",
        "        self.text = soup.body.get_text(separator=\"\\n\", strip=True)"
      ],
      "metadata": {
        "id": "cFC7IKUhn9Xk"
      },
      "execution_count": 19,
      "outputs": []
    },
    {
      "cell_type": "code",
      "source": [
        "# Test the website class.\n",
        "\n",
        "hasanOS = Website(\"https://hasan-swe.dev/portfolio/user-profile\")\n",
        "print(hasanOS.title)\n",
        "print(hasanOS.text)"
      ],
      "metadata": {
        "id": "6Q2uuz0en9dU"
      },
      "execution_count": null,
      "outputs": []
    },
    {
      "cell_type": "markdown",
      "source": [
        "# **Summarizer**"
      ],
      "metadata": {
        "id": "ISN0wbCEqcm4"
      }
    },
    {
      "cell_type": "code",
      "source": [
        "# Define our system prompt\n",
        "\n",
        "system_prompt = \"You are an assistant that analyzes the contents of a website \\\n",
        "and provides a short summary, ignoring text that might be navigation related. \\\n",
        "Respond in markdown.\""
      ],
      "metadata": {
        "id": "ajDxqj-eqXbO"
      },
      "execution_count": 22,
      "outputs": []
    },
    {
      "cell_type": "code",
      "source": [
        "# User Prompt: A function that writes a User Prompt that asks for summaries of websites:\n",
        "\n",
        "def user_prompt_for(website):\n",
        "    user_prompt = f\"You are looking at a website titled {website.title}\"\n",
        "    user_prompt += \"\\nThe contents of this website is as follows; \\\n",
        "          please provide a short summary of this website in markdown. \\\n",
        "          If it includes news or announcements, then summarize these too.\\n\\n\"\n",
        "\n",
        "    user_prompt += website.text\n",
        "\n",
        "    return user_prompt"
      ],
      "metadata": {
        "id": "Y4f7lkzEqXYt"
      },
      "execution_count": 21,
      "outputs": []
    },
    {
      "cell_type": "code",
      "source": [
        "print(user_prompt_for(hasanOS))"
      ],
      "metadata": {
        "id": "6xnHJ4piqXWG"
      },
      "execution_count": null,
      "outputs": []
    },
    {
      "cell_type": "code",
      "source": [
        "# See how this function creates exactly the format above\n",
        "\n",
        "def messages_for(website):\n",
        "    return [\n",
        "        {\"role\": \"system\", \"content\": system_prompt},\n",
        "        {\"role\": \"user\", \"content\": user_prompt_for(website)}\n",
        "    ]"
      ],
      "metadata": {
        "id": "45oa7xr-qXTm"
      },
      "execution_count": 27,
      "outputs": []
    },
    {
      "cell_type": "code",
      "source": [
        "print(messages_for(hasanOS))"
      ],
      "metadata": {
        "id": "LfftRY1HqXQ3"
      },
      "execution_count": null,
      "outputs": []
    },
    {
      "cell_type": "code",
      "source": [
        "# And now: call the OpenAI API.\n",
        "\n",
        "def summarize(url):\n",
        "    website = Website(url)\n",
        "    response = openai.chat.completions.create(\n",
        "        model = \"gpt-4o-mini\",\n",
        "        messages = messages_for(website)\n",
        "    )\n",
        "    return response.choices[0].message.content"
      ],
      "metadata": {
        "id": "8KkyetQmlwA8"
      },
      "execution_count": 29,
      "outputs": []
    },
    {
      "cell_type": "code",
      "source": [
        "summarize(\"https://hasan-swe.dev/portfolio/user-profile\")"
      ],
      "metadata": {
        "colab": {
          "base_uri": "https://localhost:8080/",
          "height": 123
        },
        "id": "FXt1zA3urtWJ",
        "outputId": "425cb5c9-ff58-4166-9868-afbb6f6b541a"
      },
      "execution_count": 31,
      "outputs": [
        {
          "output_type": "execute_result",
          "data": {
            "text/plain": [
              "\"# HasanOS Summary\\n\\n**About Me**  \\nHasan is a Software Engineering student at Seneca Polytechnic, who discovered a passion for programming through pseudocode during an IGCSE Computer Science course. He enjoys the logical process of programming and is motivated by the positive impact his work has on others. \\n\\n**Career Goals**  \\nHasan is focused on web development, with experience in front-end technologies like React and Next.js, as well as back-end frameworks such as Node.js, Django, and Spring. He has practical experience through a summer internship in full-stack development, and is interested in expanding his knowledge in AI and machine learning.\\n\\n**Hobbies & Skills**  \\nHasan enjoys gaming, particularly aiming for platinum trophies, and has a passion for sketching which allows him to express his creativity. He also has a fondness for cats, enjoying their company despite not owning one.\\n\\nThis website showcases Hasan's skills, interests, and professional journey as he navigates his studies and future career in software engineering.\""
            ],
            "application/vnd.google.colaboratory.intrinsic+json": {
              "type": "string"
            }
          },
          "metadata": {},
          "execution_count": 31
        }
      ]
    },
    {
      "cell_type": "code",
      "source": [
        "# A function to display markdown\n",
        "\n",
        "def display_summary(url):\n",
        "    summary = summarize(url)\n",
        "    display(Markdown(summary))"
      ],
      "metadata": {
        "id": "-E_u_w1krtQw"
      },
      "execution_count": 33,
      "outputs": []
    },
    {
      "cell_type": "code",
      "source": [
        "display_summary(\"https://hasan-swe.dev/portfolio/user-profile\")"
      ],
      "metadata": {
        "colab": {
          "base_uri": "https://localhost:8080/",
          "height": 471
        },
        "id": "wqOV0DNtrtOY",
        "outputId": "d41ab45b-1035-4297-dba6-19eeef1e142f"
      },
      "execution_count": 34,
      "outputs": [
        {
          "output_type": "display_data",
          "data": {
            "text/plain": [
              "<IPython.core.display.Markdown object>"
            ],
            "text/markdown": "# HasanOS Summary\n\n**Introduction**  \nThe website showcases Hasan, a Software Engineering student at Seneca Polytechnic, who expresses a strong passion for programming and web development. Hasan's interest in technology began during his IGCSE Computer Science course when he was introduced to programming concepts.\n\n**About Me**  \nHasan is motivated by the process of creating software, particularly enjoying feedback from others on his work. He takes pride in the positive impacts his projects have on people and organizations.\n\n**Career Goals**  \nHe has experience in both front-end and back-end web development, using technologies like:\n- **Front-End:** React and Next.js\n- **Back-End:** Node.js, Django, Spring\n- **Architecture:** Serverless and RESTful APIs\n- **Design Pattern:** MVC (Model-View-Controller)\n\nHis recent internship in full-stack development has further enhanced his skills. Hasan is also developing an interest in AI and machine learning, looking forward to expounding these areas in his future studies.\n\n**Hobbies & Skills**  \nHasan enjoys gaming, particularly aiming for platinum trophies on his PS4 and PS5. He is also passionate about sketching, using it as a creative outlet. Additionally, he has a fondness for cats, as expressed in a fun fact on the site.\n\n**Random Cat Pictures**  \nThe site includes a section for random cat pictures, providing a light-hearted touch.\n\n© 2025 Hasan. All rights reserved."
          },
          "metadata": {}
        }
      ]
    },
    {
      "cell_type": "code",
      "source": [
        "display_summary(\"https://hasan-swe.dev/portfolio/project-explorer\")"
      ],
      "metadata": {
        "colab": {
          "base_uri": "https://localhost:8080/",
          "height": 560
        },
        "id": "p1f8cVMBrtMJ",
        "outputId": "321dbcdb-3c66-4c00-d5ab-09899d7ccd32"
      },
      "execution_count": 35,
      "outputs": [
        {
          "output_type": "display_data",
          "data": {
            "text/plain": [
              "<IPython.core.display.Markdown object>"
            ],
            "text/markdown": "# HasanOS\n\nHasanOS is a personal portfolio website showcasing various programming projects. It serves as a platform to highlight both completed and ongoing work, emphasizing web-based and full-stack programming. The site also reflects an interest in integrating AI with web development.\n\n## Projects Overview\n\n### Hosted Projects\n1. **HasanOS**: A personal portfolio and desktop environment (Ongoing).\n2. **Algo-Maze**: An interactive maze generator and solver utilizing various algorithms (Completed).\n3. **IgnoreGit**: An AI tool for generating `.gitignore` files (Completed).\n4. **Byte-Link**: A fullstack application for sharing tech-related moments among developers (Completed).\n\n### Not Hosted Projects\n- **File-Share**: A privacy-focused file storage and sharing app.\n- **YuTify**: A tool for transferring playlists between YouTube and Spotify.\n- **MERN-MART**: A full-stack MERN application featuring user authentication and CRUD operations.\n- **The-Ping-Pong-Game**: An arcade-style game developed with C++ using the Raylib library.\n\n### AI Projects\n- **Finger-Frenzy**: A game utilizing hand gestures built with OpenCV and Google MediaPipe.\n- **Gesture Pong**: An interactive version of Pong using hand gestures, OpenCV, MediaPipe, and Pygame.\n\n## Current Focus\nThe creator is delving into large language models (LLMs) and machine learning, looking to innovate by merging these technologies with web development.\n\nOverall, HasanOS is a dynamic portfolio that reflects the creator's skills, projects, and ambition in both traditional programming and AI."
          },
          "metadata": {}
        }
      ]
    },
    {
      "cell_type": "code",
      "source": [
        "display_summary(\"https://hasan-swe.dev/portfolio/skill-set\")"
      ],
      "metadata": {
        "colab": {
          "base_uri": "https://localhost:8080/",
          "height": 535
        },
        "id": "pbrTZGjusxGd",
        "outputId": "70a1f12c-6a54-47d7-9c55-b3c7c8415388"
      },
      "execution_count": 36,
      "outputs": [
        {
          "output_type": "display_data",
          "data": {
            "text/plain": [
              "<IPython.core.display.Markdown object>"
            ],
            "text/markdown": "# HasanOS Summary\n\nHasanOS showcases a diverse set of technical skills in web development, artificial intelligence (AI), and machine learning (ML). The website outlines the programming languages, web frameworks, web tools, AI tools, and other technologies that Hasan is proficient in.\n\n## Technical Skills\n\n- **Languages**: C, C++, C#, JavaScript, Python, Java, TypeScript, Go, PHP\n- **Web Frameworks**: React, Angular, Next.js, Express.js, Django, Flask, Spring\n- **Web Tools**:\n  - UI Frameworks: Ant Design, ShadCN UI, Bootstrap, DaisyUI, Tailwind CSS\n  - Animation and State Management: Framer Motion, Redux, Zustand\n  - Testing and Data Fetching: Jest, Postman, Selenium, Axios, TanStack\n  - Cloud Services and Hosting: Firebase, Appwrite, Netlify, Vercel\n  - Databases: MySQL, PostgreSQL, MongoDB, Mongoose\n- **AI Tools**: Langchain, OpenAI, Scikit-learn, Pandas, NumPy, TensorFlow, OpenCV, MediaPipe, Hugging Face, Pinecone\n\n## Other Tools\n\n- Version Control: Git\n- Containerization: Docker\n- CI/CD: GitHub Actions\n- IDEs: VS Code, Eclipse\n- Operating Systems: Linux (Ubuntu)\n- Cloud Services: AWS, Azure\n\nThe site emphasizes the importance of evolving skills akin to coding, highlighting a commitment to continuous learning and problem-solving in technology. \n\nNo news or announcements were found on the website."
          },
          "metadata": {}
        }
      ]
    }
  ]
}