{
  "nbformat": 4,
  "nbformat_minor": 0,
  "metadata": {
    "colab": {
      "provenance": [],
      "collapsed_sections": [
        "5IDtJmg9wHVO"
      ],
      "authorship_tag": "ABX9TyMjAcuvODqspuRd24rgF9E5",
      "include_colab_link": true
    },
    "kernelspec": {
      "name": "python3",
      "display_name": "Python 3"
    },
    "language_info": {
      "name": "python"
    }
  },
  "cells": [
    {
      "cell_type": "markdown",
      "metadata": {
        "id": "view-in-github",
        "colab_type": "text"
      },
      "source": [
        "<a href=\"https://colab.research.google.com/github/MohHasan1/ScrapeSummarize/blob/main/Brochure_Genertator.ipynb\" target=\"_parent\"><img src=\"https://colab.research.google.com/assets/colab-badge.svg\" alt=\"Open In Colab\"/></a>"
      ]
    },
    {
      "cell_type": "markdown",
      "source": [],
      "metadata": {
        "id": "QNrVcyErjv7X"
      }
    },
    {
      "cell_type": "code",
      "execution_count": 2,
      "metadata": {
        "id": "l7l6VJAMjszF"
      },
      "outputs": [],
      "source": [
        "# imports\n",
        "\n",
        "import os\n",
        "import requests\n",
        "import json\n",
        "from typing import List\n",
        "from bs4 import BeautifulSoup\n",
        "from IPython.display import Markdown, display, update_display\n",
        "from openai import OpenAI"
      ]
    },
    {
      "cell_type": "code",
      "source": [
        "OPENAPI_KEY = \"Your api key\"\n",
        "\n",
        "if not OPENAPI_KEY:\n",
        "    print(\"No API key found. Please add the OPENAPI_KEY above.\")\n",
        "elif not OPENAPI_KEY.startswith(\"sk-proj-\"):\n",
        "    print(\"Invalid API key format. Ensure it starts with 'sk-proj-'.\")\n",
        "elif OPENAPI_KEY.strip() != OPENAPI_KEY:\n",
        "    print(\"API key has leading/trailing spaces. Remove them.\")\n",
        "else:\n",
        "    print(\"API key is valid!\")"
      ],
      "metadata": {
        "colab": {
          "base_uri": "https://localhost:8080/"
        },
        "id": "KJDGwz1bjxj_",
        "outputId": "f21147e4-ec0f-4825-f21d-fcee52a7581e"
      },
      "execution_count": 7,
      "outputs": [
        {
          "output_type": "stream",
          "name": "stdout",
          "text": [
            "API key is valid!\n"
          ]
        }
      ]
    },
    {
      "cell_type": "code",
      "source": [
        "# Connect to OpenAI\n",
        "\n",
        "openai = OpenAI(api_key=OPENAPI_KEY)\n",
        "\n",
        "# Test the connection.\n",
        "\n",
        "response = openai.chat.completions.create(model=\"gpt-4o-mini\", messages=[{\"role\":\"user\", \"content\":\"Hello, GPT! How are you?\"}])\n",
        "print(response.choices[0].message.content)"
      ],
      "metadata": {
        "colab": {
          "base_uri": "https://localhost:8080/"
        },
        "id": "Jls8nv0yjxh3",
        "outputId": "c41c800e-60de-4e05-9719-c9ca049bcc55"
      },
      "execution_count": 9,
      "outputs": [
        {
          "output_type": "stream",
          "name": "stdout",
          "text": [
            "Hello! I'm just a program, so I don't have feelings, but I'm here and ready to help you. How can I assist you today?\n"
          ]
        }
      ]
    },
    {
      "cell_type": "markdown",
      "source": [
        "# **Website Class**"
      ],
      "metadata": {
        "id": "NjY5ChRekkyr"
      }
    },
    {
      "cell_type": "code",
      "source": [
        "# A class to represent a Webpage\n",
        "\n",
        "# Some websites need you to use proper headers when fetching them:\n",
        "headers = {\n",
        " \"User-Agent\": \"Mozilla/5.0 (Windows NT 10.0; Win64; x64) AppleWebKit/537.36 (KHTML, like Gecko) Chrome/117.0.0.0 Safari/537.36\"\n",
        "}\n",
        "\n",
        "class Website:\n",
        "    \"\"\"\n",
        "    A utility class to represent a Website that have been scraped, with links.\n",
        "    \"\"\"\n",
        "\n",
        "    def __init__(self, url):\n",
        "        self.url = url\n",
        "\n",
        "        # Fetch teh html content (will not werk for web app like react)\n",
        "        response = requests.get(url, headers=headers)\n",
        "        self.body = response.content\n",
        "\n",
        "        # Parse the html\n",
        "        soup = BeautifulSoup(self.body, 'html.parser')\n",
        "\n",
        "        # clean the html and set the contents\n",
        "        self.title = soup.title.string if soup.title else \"No title found\"\n",
        "        if soup.body:\n",
        "            for irrelevant in soup.body([\"script\", \"style\", \"img\", \"input\"]):\n",
        "                irrelevant.decompose()\n",
        "            self.text = soup.body.get_text(separator=\"\\n\", strip=True)\n",
        "        else:\n",
        "            self.text = \"\"\n",
        "\n",
        "        # Getting all the links\n",
        "        links = [link.get('href') for link in soup.find_all('a')]\n",
        "        self.links = [link for link in links if link]\n",
        "\n",
        "    def get_contents(self):\n",
        "        return f\"Webpage Title:\\n{self.title}\\nWebpage Contents:\\n{self.text}\\n\\n\""
      ],
      "metadata": {
        "id": "VCAl8_HzjxfW"
      },
      "execution_count": 10,
      "outputs": []
    },
    {
      "cell_type": "code",
      "source": [
        "website = Website(\"http://hasan-swe.dev/\")\n",
        "website.links"
      ],
      "metadata": {
        "colab": {
          "base_uri": "https://localhost:8080/"
        },
        "id": "Kt7PWPY7jxcu",
        "outputId": "5cb150a6-a31b-451c-c278-1a879630255a"
      },
      "execution_count": 26,
      "outputs": [
        {
          "output_type": "execute_result",
          "data": {
            "text/plain": [
              "['/home',\n",
              " 'https://github.com/MohHasan1',\n",
              " 'https://www.linkedin.com/in/hasan-in/',\n",
              " 'https://mail.google.com/mail/?view=cm&fs=1&to=hasan.swe.dev@gmail.com',\n",
              " 'https://algo-mazes.netlify.app/',\n",
              " 'https://byte-link.netlify.app/',\n",
              " 'https://ignore-git.netlify.app/',\n",
              " 'https://goal-app-70cf4.firebaseapp.com/',\n",
              " '/portfolio/achievement',\n",
              " '/portfolio/user-profile',\n",
              " '/portfolio/project-explorer',\n",
              " '/portfolio/work-experience',\n",
              " '/portfolio/skill-set',\n",
              " '/portfolio/connect',\n",
              " '/resume']"
            ]
          },
          "metadata": {},
          "execution_count": 26
        }
      ]
    },
    {
      "cell_type": "markdown",
      "source": [
        "# **First step: Have GPT-4o-mini figure out which links are relevant**\n",
        "\n",
        "Use a call to gpt-4o-mini to read the links on a webpage, and respond in structured JSON.\n",
        "\n",
        "It should decide which links are relevant, and replace relative links such as \"/about\" with \"https://company.com/about\".\n",
        "\n",
        "We will use \"one shot prompting\" in which we provide an example of how it should respond in the prompt.\n",
        "\n",
        "This is an excellent use case for an LLM, because it requires nuanced understanding. Imagine trying to code this without LLMs by parsing and analyzing the webpage - it would be very hard!\n",
        "\n",
        "\n",
        "Sidenote: there is a more advanced technique called \"Structured Outputs\" in which we require the model to respond according to a spec. We cover this technique in Week 8 during our autonomous Agentic AI project."
      ],
      "metadata": {
        "id": "xWpCa3BQvd4v"
      }
    },
    {
      "cell_type": "markdown",
      "source": [
        "# **Prompt Engineering**"
      ],
      "metadata": {
        "id": "5IDtJmg9wHVO"
      }
    },
    {
      "cell_type": "code",
      "source": [
        "# System (one-shot prompting)\n",
        "link_system_prompt = \"You are provided with a list of links found on a webpage. \\\n",
        "You are able to decide which of the links would be most relevant to include in a brochure about the company, \\\n",
        "such as links to an About page, or a Company page, or Careers/Jobs pages.\\n\"\n",
        "link_system_prompt += \"You should respond in JSON as in this example:\"\n",
        "link_system_prompt += \"\"\"\n",
        "{\n",
        "    \"links\": [\n",
        "        {\"type\": \"about page\", \"url\": \"https://full.url/goes/here/about\"},\n",
        "        {\"type\": \"careers page\": \"url\": \"https://another.full.url/careers\"}\n",
        "    ]\n",
        "}\n",
        "\"\"\""
      ],
      "metadata": {
        "id": "Uz4mWLT_jxaI"
      },
      "execution_count": 21,
      "outputs": []
    },
    {
      "cell_type": "code",
      "source": [
        "# User\n",
        "def get_links_user_prompt(website : Website):\n",
        "    user_prompt = f\"Here is the list of links on the website of {website.url} - \"\n",
        "    user_prompt += \"please decide which of these are relevant web links for a brochure about the company, respond with the full https URL in JSON format. \\\n",
        "Do not include Terms of Service, Privacy, email links.\\n\"\n",
        "    user_prompt += \"Links (some might be relative links):\\n\"\n",
        "    user_prompt += \"\\n\".join(website.links)\n",
        "    return user_prompt"
      ],
      "metadata": {
        "id": "46l20muvjxXP"
      },
      "execution_count": 22,
      "outputs": []
    },
    {
      "cell_type": "markdown",
      "source": [
        "# **Get all relevent links using gpt**"
      ],
      "metadata": {
        "id": "F_vTIIYoxlkH"
      }
    },
    {
      "cell_type": "code",
      "source": [
        "def get_links(url):\n",
        "    website = Website(url)\n",
        "    response = openai.chat.completions.create(\n",
        "        model=\"gpt-4o-mini\",\n",
        "        messages=[\n",
        "            {\"role\": \"system\", \"content\": link_system_prompt},\n",
        "            {\"role\": \"user\", \"content\": get_links_user_prompt(website)}\n",
        "      ],\n",
        "        response_format={\"type\": \"json_object\"}\n",
        "    )\n",
        "    result = response.choices[0].message.content\n",
        "    return json.loads(result)"
      ],
      "metadata": {
        "id": "RwyxI8sbjxUn"
      },
      "execution_count": 27,
      "outputs": []
    },
    {
      "cell_type": "code",
      "source": [
        "get_links(\"http://hasan-swe.dev/\")"
      ],
      "metadata": {
        "colab": {
          "base_uri": "https://localhost:8080/"
        },
        "id": "uub6ClMqww41",
        "outputId": "0be56922-bc2d-45ae-b633-4cda86f5a9f2"
      },
      "execution_count": 30,
      "outputs": [
        {
          "output_type": "execute_result",
          "data": {
            "text/plain": [
              "{'links': [{'type': 'portfolio achievements',\n",
              "   'url': 'http://hasan-swe.dev/portfolio/achievement'},\n",
              "  {'type': 'portfolio user profile',\n",
              "   'url': 'http://hasan-swe.dev/portfolio/user-profile'},\n",
              "  {'type': 'portfolio project explorer',\n",
              "   'url': 'http://hasan-swe.dev/portfolio/project-explorer'},\n",
              "  {'type': 'portfolio work experience',\n",
              "   'url': 'http://hasan-swe.dev/portfolio/work-experience'},\n",
              "  {'type': 'portfolio skill set',\n",
              "   'url': 'http://hasan-swe.dev/portfolio/skill-set'},\n",
              "  {'type': 'portfolio connect',\n",
              "   'url': 'http://hasan-swe.dev/portfolio/connect'},\n",
              "  {'type': 'resume', 'url': 'http://hasan-swe.dev/resume'},\n",
              "  {'type': 'GitHub profile', 'url': 'https://github.com/MohHasan1'},\n",
              "  {'type': 'LinkedIn profile',\n",
              "   'url': 'https://www.linkedin.com/in/hasan-in/'}]}"
            ]
          },
          "metadata": {},
          "execution_count": 30
        }
      ]
    },
    {
      "cell_type": "markdown",
      "source": [
        "# **Second step: make the brochure!**\n",
        "Assemble all the details into another prompt to GPT4-o"
      ],
      "metadata": {
        "id": "QocoGpvzyI_l"
      }
    },
    {
      "cell_type": "markdown",
      "source": [
        "# **Scrape all teh relevent links**"
      ],
      "metadata": {
        "id": "Gi7A7JKJy-Yl"
      }
    },
    {
      "cell_type": "code",
      "source": [
        "def get_all_details(url):\n",
        "  # Home or landing page\n",
        "    result = \"Home/Landing page:\\n\"\n",
        "\n",
        "    # Get all Home/landing page conents\n",
        "    result += Website(url).get_contents()\n",
        "\n",
        "    # Get all relevent links\n",
        "    links = get_links(url)\n",
        "    print(\"Found links:\", links)\n",
        "\n",
        "    # get info of all the relevent links\n",
        "    for link in links[\"links\"]:\n",
        "        result += f\"\\n\\n{link['type']}\\n\"\n",
        "        result += Website(link[\"url\"]).get_contents()\n",
        "    return result"
      ],
      "metadata": {
        "id": "_OPYAh6Aww2d"
      },
      "execution_count": 31,
      "outputs": []
    },
    {
      "cell_type": "code",
      "source": [
        "print(get_all_details(\"http://hasan-swe.dev/\"))"
      ],
      "metadata": {
        "id": "PJQnSTFxww0F"
      },
      "execution_count": null,
      "outputs": []
    },
    {
      "cell_type": "markdown",
      "source": [
        "# **Prompt engineering**"
      ],
      "metadata": {
        "id": "qXw5gaj2z5u3"
      }
    },
    {
      "cell_type": "code",
      "source": [
        "system_prompt = \"You are an assistant that analyzes the contents of several relevant pages from a company website \\\n",
        "and creates a short brochure about the company for prospective customers, investors and recruits. Respond in markdown.\\\n",
        "Include details of company culture, customers and careers/jobs if you have the information.\""
      ],
      "metadata": {
        "id": "HNQCnoGazp50"
      },
      "execution_count": 43,
      "outputs": []
    },
    {
      "cell_type": "code",
      "source": [
        "# user\n",
        "def get_brochure_user_prompt(company_name, url):\n",
        "    user_prompt = f\"You are looking at a website called: {company_name}\\n\"\n",
        "    user_prompt += f\"Here are the contents of its landing page and other relevant pages; use this information to build a short brochure in markdown.\\n\"\n",
        "    user_prompt += get_all_details(url)\n",
        "    user_prompt = user_prompt[:5_000] # Truncate if more than 5,000 characters\n",
        "    return user_prompt"
      ],
      "metadata": {
        "id": "EhKWIf5uzp3U"
      },
      "execution_count": 41,
      "outputs": []
    },
    {
      "cell_type": "code",
      "source": [
        "get_brochure_user_prompt(\"HasanOS\", \"http://hasan-swe.dev/\")"
      ],
      "metadata": {
        "id": "aQinOlnZzpvk"
      },
      "execution_count": null,
      "outputs": []
    },
    {
      "cell_type": "markdown",
      "source": [
        "# **Create the brochure**"
      ],
      "metadata": {
        "id": "oCBsu1-d0dWF"
      }
    },
    {
      "cell_type": "code",
      "source": [
        "def create_brochure(company_name, url):\n",
        "    response = openai.chat.completions.create(\n",
        "        model=\"gpt-4o-mini\",\n",
        "        messages=[\n",
        "            {\"role\": \"system\", \"content\": system_prompt},\n",
        "            {\"role\": \"user\", \"content\": get_brochure_user_prompt(company_name, url)}\n",
        "          ],\n",
        "    )\n",
        "    result = response.choices[0].message.content\n",
        "    display(Markdown(result))"
      ],
      "metadata": {
        "id": "vCUDHxjY0VDb"
      },
      "execution_count": 39,
      "outputs": []
    },
    {
      "cell_type": "code",
      "source": [
        "create_brochure(\"Github\", \"http://github.com\")"
      ],
      "metadata": {
        "colab": {
          "base_uri": "https://localhost:8080/",
          "height": 1000
        },
        "id": "LVQVfqho0VAz",
        "outputId": "0c1d62c2-62ee-46cc-ccc0-75f94036eb11"
      },
      "execution_count": 46,
      "outputs": [
        {
          "output_type": "stream",
          "name": "stdout",
          "text": [
            "Found links: {'links': [{'type': 'about page', 'url': 'https://github.com/about'}, {'type': 'careers page', 'url': 'https://github.careers'}, {'type': 'company blog', 'url': 'https://github.blog'}, {'type': 'customer stories', 'url': 'https://github.com/customer-stories'}, {'type': 'team page', 'url': 'https://github.com/team'}, {'type': 'newsroom', 'url': 'https://github.com/newsroom'}]}\n"
          ]
        },
        {
          "output_type": "display_data",
          "data": {
            "text/plain": [
              "<IPython.core.display.Markdown object>"
            ],
            "text/markdown": "# GitHub Brochure\n\n---\n\n## Welcome to GitHub\n\n### Build and Ship Software on a Single, Collaborative Platform\n\nJoin the world’s most widely adopted AI-powered developer platform and discover how your organization can innovate and grow with GitHub.\n\n### Our Vision\n\nGitHub empowers developers worldwide by providing them with tools that streamline their workflows, simplify collaboration, and enhance productivity. Our mission is to create a platform where developers can connect, collaborate, and build remarkable software together.\n\n---\n\n## Key Features\n\n- **GitHub Copilot**: Discover AI-driven code assistance that boosts productivity by 25% or more. Get code suggestions, refactor code, and even chat with AI—all integrated into your development pipeline.\n\n- **GitHub Actions**: Automate your workflows effortlessly with a flexible CI/CD solution. Optimize processes and enhance deployment strategies to save time and resources.\n\n- **Codespaces**: Start building instantly with a complete development environment in the cloud. Access your projects from anywhere, whether from the office, home, or on the go.\n\n- **Security**: Protect your code with built-in security features. Identify and resolve vulnerabilities before they become a problem with advanced security alerts and robust compliance tools.\n\n---\n\n## Our Customers\n\nGitHub is trusted by a diverse range of customers worldwide, including:\n\n- **Enterprises**\n- **Small and Medium Teams**\n- **Startups**\n- **Nonprofits**\n\n### Industry Applications\n\nWe cater to various industries, including:\n\n- Healthcare\n- Financial Services\n- Manufacturing\n- Government\n\nBy focusing on sector-specific solutions, we ensure that our tools meet the distinct needs of every organization.\n\n---\n\n## Company Culture\n\nAt GitHub, we foster an environment of collaboration, innovation, and inclusivity. We believe in the power of community—our teams work in a culture that promotes open communication, continuous learning, and shared knowledge.\n\nOur workforce reflects a range of backgrounds and experiences, creating a vibrant culture that encourages diversity and creativity. We value feedback and consider it a critical component of our growth.\n\n---\n\n## Careers at GitHub\n\nGitHub is always on the lookout for passionate individuals to join our dynamic team. We offer various career paths across technology, product management, marketing, and customer support. \n\n### Why Work with Us?\n\n- **Innovative Environment**: Work with cutting-edge technology and collaborate with brilliant minds.\n- **Flexible Work Arrangement**: We promote a healthy work-life balance with remote work options.\n- **Learning and Development**: Benefit from various learning pathways, workshops, and access to events.\n\nJoin us in shaping the future of software development!\n\n---\n\n## Get Started with GitHub\n\nWhether you're looking to build software, collaborate with a team, or find a new career opportunity, GitHub is your go-to platform. \n\n**Try GitHub Copilot today!** \n\nFor more information, visit our website or connect with us on social media.\n\n---\n\n*Discover the power of collaborative software development with GitHub—where innovation meets community.*"
          },
          "metadata": {}
        }
      ]
    },
    {
      "cell_type": "markdown",
      "source": [
        "# **Streaming**"
      ],
      "metadata": {
        "id": "vLdH2YUT2IRl"
      }
    },
    {
      "cell_type": "code",
      "source": [
        "def stream_brochure(company_name, url):\n",
        "    stream = openai.chat.completions.create(\n",
        "        model=\"gpt-4o-mini\",\n",
        "        messages=[\n",
        "            {\"role\": \"system\", \"content\": system_prompt},\n",
        "            {\"role\": \"user\", \"content\": get_brochure_user_prompt(company_name, url)}\n",
        "          ],\n",
        "        stream=True\n",
        "    )\n",
        "\n",
        "    response = \"\"\n",
        "    display_handle = display(Markdown(\"\"), display_id=True)\n",
        "    for chunk in stream:\n",
        "        response += chunk.choices[0].delta.content or ''\n",
        "        # replace code ``` with \"\" and markdown with \"\"\n",
        "        response = response.replace(\"```\",\"\").replace(\"markdown\", \"\")\n",
        "        # update teh markdown\n",
        "        update_display(Markdown(response), display_id=display_handle.display_id)"
      ],
      "metadata": {
        "id": "1ey4747C0U-U"
      },
      "execution_count": 49,
      "outputs": []
    },
    {
      "cell_type": "code",
      "source": [
        "stream_brochure(\"HuggingFace\", \"https://huggingface.co\")"
      ],
      "metadata": {
        "colab": {
          "base_uri": "https://localhost:8080/",
          "height": 949
        },
        "id": "JcPK8TSZ2O9n",
        "outputId": "e650f99f-8f14-49d7-a71d-07699be376b6"
      },
      "execution_count": 50,
      "outputs": [
        {
          "output_type": "stream",
          "name": "stdout",
          "text": [
            "Found links: {'links': [{'type': 'about page', 'url': 'https://huggingface.co/huggingface'}, {'type': 'careers page', 'url': 'https://apply.workable.com/huggingface/'}, {'type': 'blog', 'url': 'https://huggingface.co/blog'}, {'type': 'community page', 'url': 'https://discuss.huggingface.co'}, {'type': 'enterprise page', 'url': 'https://huggingface.co/enterprise'}, {'type': 'pricing page', 'url': 'https://huggingface.co/pricing'}, {'type': 'GitHub page', 'url': 'https://github.com/huggingface'}, {'type': 'Twitter page', 'url': 'https://twitter.com/huggingface'}, {'type': 'LinkedIn page', 'url': 'https://www.linkedin.com/company/huggingface/'}]}\n"
          ]
        },
        {
          "output_type": "display_data",
          "data": {
            "text/plain": [
              "<IPython.core.display.Markdown object>"
            ],
            "text/markdown": "# 🎉 Welcome to Hugging Face: The AI Community Building the Future\n\n### 🌟 About Us\nHugging Face is at the forefront of the artificial intelligence revolution. Our mission is to democratize machine learning by providing a platform that fosters collaboration among researchers, developers, and enthusiasts globally. With an emphasis on community-driven development, we offer innovative tools and resources for model creation, datasets, and applications.\n\n### 🤝 Company Culture\nAt Hugging Face, we believe in the power of collaboration and inclusivity. Our culture encourages constant learning, sharing, and evolving together as a community. Whether you are developing advanced AI models or engaging with datasets, you are part of a vibrant ecosystem dedicated to pushing the boundaries of machine learning.\n\n### 📊 Our Customers\nWe proudly serve over **50,000 organizations** including major enterprises such as:\n\n- **Meta AI**\n- **Amazon**\n- **Google**\n- **Intel**\n- **Microsoft**\n- **Grammarly**\n\nOur clients benefit from advanced machine learning solutions tailored to their specific needs, which allows them to accelerate their projects effectively and responsibly.\n\n### 👩‍💻 Careers at Hugging Face\nJoin us in shaping the future of AI! We are looking for passionate team members who are eager to innovate and contribute to our mission. At Hugging Face, you will collaborate with world-class professionals in an environment that promotes creativity and growth. Explore our **[Careers Page](https://huggingface.co/jobs)** to find your place within our team!\n\n### 🔍 Explore Our Offerings\n- **Models**: Access and collaborate on over **1 Million models**, including state-of-the-art solutions in text, image, video, audio, and more.\n- **Datasets**: Discover and utilize more than **250,000 datasets** perfect for any machine learning task.\n- **Spaces**: Engage with our dynamic applications and tools designed for real-time experimentation and collaboration.\n- **Enterprise Solutions**: Tailored solutions designed for organizations, with benefits such as enhanced security, access controls, and dedicated support starting at **$20/user/month**.\n\n#### 🚀 Get Started\nJoin the Hugging Face community today! Explore models, datasets, and applications that are transforming the AI landscape. **[Sign Up Now](https://huggingface.co/signup)** to start your journey!\n\n### 💬 Connect With Us\nStay updated and be part of the conversation. Follow us on:\n\n- [Twitter](https://twitter.com/huggingface)\n- [LinkedIn](https://www.linkedin.com/company/huggingface/)\n- [GitHub](https://github.com/huggingface)\n- [Discord](https://discord.gg/huggingface)\n\n---\n\nTogether, let's build a future powered by artificial intelligence!"
          },
          "metadata": {}
        }
      ]
    },
    {
      "cell_type": "code",
      "source": [],
      "metadata": {
        "id": "etBIjczY2O1f"
      },
      "execution_count": null,
      "outputs": []
    }
  ]
}